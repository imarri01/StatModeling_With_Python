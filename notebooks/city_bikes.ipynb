{
 "cells": [
  {
   "cell_type": "markdown",
   "metadata": {},
   "source": [
    "# CityBikes"
   ]
  },
  {
   "cell_type": "markdown",
   "metadata": {},
   "source": [
    "Send a request to CityBikes for the city of your choice. "
   ]
  },
  {
   "cell_type": "code",
   "execution_count": null,
   "metadata": {},
   "outputs": [],
   "source": [
    "#imports\n",
    "import requests\n",
    "import pandas as pd\n",
    "import os # needed for bash script to move file to /data location\n",
    "\n",
    "# API URL\n",
    "url = 'http://api.citybik.es/v2/networks/sobi-hamilton'\n",
    "\n",
    "\n",
    "response = requests.get(url)\n",
    "print(response)\n",
    "\n",
    "if response.status_code == 200:\n",
    "    data = response.json()\n",
    "    print(data)\n",
    "else:\n",
    "    print(\"Request failed with status code:\", response.status_code)"
   ]
  },
  {
   "cell_type": "markdown",
   "metadata": {},
   "source": [
    "Parse through the response to get the details you want for the bike stations in that city (latitude, longitude, number of bikes). "
   ]
  },
  {
   "cell_type": "code",
   "execution_count": 2,
   "metadata": {},
   "outputs": [],
   "source": [
    "# Extract station information\n",
    "stations = data['network']['stations']\n",
    "\n",
    "# Store longitude and latitude for each station\n",
    "stations_bike_info = [{'available_bikes': station['free_bikes'], 'longitude': station['longitude'], 'latitude': station['latitude']} for station in stations]"
   ]
  },
  {
   "cell_type": "markdown",
   "metadata": {},
   "source": [
    "Put your parsed results into a DataFrame."
   ]
  },
  {
   "cell_type": "code",
   "execution_count": 3,
   "metadata": {},
   "outputs": [
    {
     "name": "stdout",
     "output_type": "stream",
     "text": [
      "     available_bikes  longitude   latitude\n",
      "0                  4 -79.877212  43.259126\n",
      "1                 11 -79.871327  43.269288\n",
      "2                  5 -79.867923  43.267859\n",
      "3                  4 -79.871803  43.263198\n",
      "4                  4 -79.874499  43.256132\n",
      "..               ...        ...        ...\n",
      "139                3 -79.868487  43.257635\n",
      "140                1 -79.907480  43.264869\n",
      "141                5 -79.869533  43.253330\n",
      "142                6 -79.905088  43.262015\n",
      "143                3 -79.818050  43.247565\n",
      "\n",
      "[144 rows x 3 columns]\n"
     ]
    }
   ],
   "source": [
    " # Create a pandas DataFrame\n",
    "df = pd.DataFrame(stations_bike_info)\n",
    "\n",
    "print(df)"
   ]
  },
  {
   "cell_type": "code",
   "execution_count": 12,
   "metadata": {},
   "outputs": [
    {
     "data": {
      "text/html": [
       "<div>\n",
       "<style scoped>\n",
       "    .dataframe tbody tr th:only-of-type {\n",
       "        vertical-align: middle;\n",
       "    }\n",
       "\n",
       "    .dataframe tbody tr th {\n",
       "        vertical-align: top;\n",
       "    }\n",
       "\n",
       "    .dataframe thead th {\n",
       "        text-align: right;\n",
       "    }\n",
       "</style>\n",
       "<table border=\"1\" class=\"dataframe\">\n",
       "  <thead>\n",
       "    <tr style=\"text-align: right;\">\n",
       "      <th></th>\n",
       "      <th>longitude</th>\n",
       "      <th>latitude</th>\n",
       "    </tr>\n",
       "  </thead>\n",
       "  <tbody>\n",
       "    <tr>\n",
       "      <th>0</th>\n",
       "      <td>-79.877212</td>\n",
       "      <td>43.259126</td>\n",
       "    </tr>\n",
       "    <tr>\n",
       "      <th>1</th>\n",
       "      <td>-79.871327</td>\n",
       "      <td>43.269288</td>\n",
       "    </tr>\n",
       "    <tr>\n",
       "      <th>2</th>\n",
       "      <td>-79.867923</td>\n",
       "      <td>43.267859</td>\n",
       "    </tr>\n",
       "    <tr>\n",
       "      <th>3</th>\n",
       "      <td>-79.871803</td>\n",
       "      <td>43.263198</td>\n",
       "    </tr>\n",
       "    <tr>\n",
       "      <th>4</th>\n",
       "      <td>-79.874499</td>\n",
       "      <td>43.256132</td>\n",
       "    </tr>\n",
       "    <tr>\n",
       "      <th>...</th>\n",
       "      <td>...</td>\n",
       "      <td>...</td>\n",
       "    </tr>\n",
       "    <tr>\n",
       "      <th>139</th>\n",
       "      <td>-79.868487</td>\n",
       "      <td>43.257635</td>\n",
       "    </tr>\n",
       "    <tr>\n",
       "      <th>140</th>\n",
       "      <td>-79.907480</td>\n",
       "      <td>43.264869</td>\n",
       "    </tr>\n",
       "    <tr>\n",
       "      <th>141</th>\n",
       "      <td>-79.869533</td>\n",
       "      <td>43.253330</td>\n",
       "    </tr>\n",
       "    <tr>\n",
       "      <th>142</th>\n",
       "      <td>-79.905088</td>\n",
       "      <td>43.262015</td>\n",
       "    </tr>\n",
       "    <tr>\n",
       "      <th>143</th>\n",
       "      <td>-79.818050</td>\n",
       "      <td>43.247565</td>\n",
       "    </tr>\n",
       "  </tbody>\n",
       "</table>\n",
       "<p>144 rows × 2 columns</p>\n",
       "</div>"
      ],
      "text/plain": [
       "     longitude   latitude\n",
       "0   -79.877212  43.259126\n",
       "1   -79.871327  43.269288\n",
       "2   -79.867923  43.267859\n",
       "3   -79.871803  43.263198\n",
       "4   -79.874499  43.256132\n",
       "..         ...        ...\n",
       "139 -79.868487  43.257635\n",
       "140 -79.907480  43.264869\n",
       "141 -79.869533  43.253330\n",
       "142 -79.905088  43.262015\n",
       "143 -79.818050  43.247565\n",
       "\n",
       "[144 rows x 2 columns]"
      ]
     },
     "execution_count": 12,
     "metadata": {},
     "output_type": "execute_result"
    }
   ],
   "source": [
    "# Extract \n",
    "bike_ccordinates = df[['longitude','latitude']]\n",
    "bike_ccordinates"
   ]
  },
  {
   "cell_type": "code",
   "execution_count": 15,
   "metadata": {},
   "outputs": [],
   "source": [
    "# export coordinates to csv file to load in part 2\n",
    "bike_ccordinates.to_csv('CityBike_longlat.csv', index=False)"
   ]
  },
  {
   "cell_type": "code",
   "execution_count": 32,
   "metadata": {},
   "outputs": [],
   "source": [
    "%%bash\n",
    "mv CityBike_longlat.csv ../data/ # Move csv file to data folder\n",
    "\n"
   ]
  },
  {
   "cell_type": "code",
   "execution_count": null,
   "metadata": {},
   "outputs": [],
   "source": []
  }
 ],
 "metadata": {
  "kernelspec": {
   "display_name": "Python 3 (ipykernel)",
   "language": "python",
   "name": "python3"
  },
  "language_info": {
   "codemirror_mode": {
    "name": "ipython",
    "version": 3
   },
   "file_extension": ".py",
   "mimetype": "text/x-python",
   "name": "python",
   "nbconvert_exporter": "python",
   "pygments_lexer": "ipython3",
   "version": "3.10.13"
  }
 },
 "nbformat": 4,
 "nbformat_minor": 4
}
