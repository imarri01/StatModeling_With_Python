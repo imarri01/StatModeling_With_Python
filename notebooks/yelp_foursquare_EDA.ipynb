{
 "cells": [
  {
   "cell_type": "code",
   "execution_count": 9,
   "metadata": {},
   "outputs": [],
   "source": [
    "# imports\n",
    "import numpy as np\n",
    "import pandas as pd\n",
    "import os\n",
    "import requests\n",
    "import foursquare\n",
    "import json"
   ]
  },
  {
   "cell_type": "markdown",
   "metadata": {},
   "source": [
    "# Foursquare"
   ]
  },
  {
   "cell_type": "markdown",
   "metadata": {},
   "source": [
    "Send a request to Foursquare with a small radius (1000m) for all the bike stations in your city of choice. "
   ]
  },
  {
   "cell_type": "code",
   "execution_count": 142,
   "metadata": {},
   "outputs": [],
   "source": [
    "url = \"https://api.foursquare.com/v3/places/search\"\n",
    "client_access_token = os.environ['FOURSQUARE_AUTH_TOKEN']\n",
    "\n",
    "\n",
    "headers = {\n",
    "    \"Accept\": \"application/json\",\n",
    "    \"Authorization\": client_access_token\n",
    "}\n",
    "\n",
    "params = {\n",
    "  \t\"radius\": \"1000\",\n",
    "    \"near\": \"Toronto,ON\",\n",
    "    \"open_now\": \"true\",\n",
    "    \"sort\": \"RATING\"\n",
    "}\n",
    "\n",
    "response = requests.get(url, headers=headers)\n",
    "\n",
    "data = json.loads(response.text)"
   ]
  },
  {
   "cell_type": "markdown",
   "metadata": {},
   "source": [
    "Parse through the response to get the POI (such as restaurants, bars, etc) details you want (ratings, name, location, etc)"
   ]
  },
  {
   "cell_type": "code",
   "execution_count": 143,
   "metadata": {},
   "outputs": [],
   "source": [
    "results =[]\n",
    "\n",
    "for result in data['results']:\n",
    "    name = result['name']\n",
    "    location = result['location']\n",
    "\n",
    "    categories = []\n",
    "    for category in result['categories']:\n",
    "        categories.append(category['name'])\n",
    "\n",
    "    result_dict = {\n",
    "        'name': name,\n",
    "        'location': location,\n",
    "        'categories': categories\n",
    "    }\n",
    "\n",
    "    results.append(result_dict)"
   ]
  },
  {
   "cell_type": "markdown",
   "metadata": {},
   "source": [
    "Put your parsed results into a DataFrame"
   ]
  },
  {
   "cell_type": "code",
   "execution_count": 144,
   "metadata": {},
   "outputs": [
    {
     "data": {
      "text/html": [
       "<div>\n",
       "<style scoped>\n",
       "    .dataframe tbody tr th:only-of-type {\n",
       "        vertical-align: middle;\n",
       "    }\n",
       "\n",
       "    .dataframe tbody tr th {\n",
       "        vertical-align: top;\n",
       "    }\n",
       "\n",
       "    .dataframe thead th {\n",
       "        text-align: right;\n",
       "    }\n",
       "</style>\n",
       "<table border=\"1\" class=\"dataframe\">\n",
       "  <thead>\n",
       "    <tr style=\"text-align: right;\">\n",
       "      <th></th>\n",
       "      <th>name</th>\n",
       "      <th>location</th>\n",
       "      <th>categories</th>\n",
       "    </tr>\n",
       "  </thead>\n",
       "  <tbody>\n",
       "    <tr>\n",
       "      <th>0</th>\n",
       "      <td>Real Canadian Superstore</td>\n",
       "      <td>{'address': '361 S Service Rd', 'country': 'CA...</td>\n",
       "      <td>[Grocery Store]</td>\n",
       "    </tr>\n",
       "    <tr>\n",
       "      <th>1</th>\n",
       "      <td>Starbucks</td>\n",
       "      <td>{'address': '415 S Service Rd', 'country': 'CA...</td>\n",
       "      <td>[Coffee Shop]</td>\n",
       "    </tr>\n",
       "    <tr>\n",
       "      <th>2</th>\n",
       "      <td>Rosewood Estates Winery</td>\n",
       "      <td>{'address': '4352 Mountainview Rd', 'country':...</td>\n",
       "      <td>[Bar, Dessert Shop, Winery]</td>\n",
       "    </tr>\n",
       "    <tr>\n",
       "      <th>3</th>\n",
       "      <td>Good Earth Vineyard &amp; Winery Inc</td>\n",
       "      <td>{'address': '4556 Lincoln Ave', 'country': 'CA...</td>\n",
       "      <td>[Bistro, Winery]</td>\n",
       "    </tr>\n",
       "    <tr>\n",
       "      <th>4</th>\n",
       "      <td>Hidden Bench Vineyards &amp; Winery Inc</td>\n",
       "      <td>{'address': '4152 Locust Lane', 'country': 'CA...</td>\n",
       "      <td>[Winery]</td>\n",
       "    </tr>\n",
       "    <tr>\n",
       "      <th>5</th>\n",
       "      <td>Dillons</td>\n",
       "      <td>{'address': '4833 Tufford Rd', 'country': 'CA'...</td>\n",
       "      <td>[Distillery]</td>\n",
       "    </tr>\n",
       "    <tr>\n",
       "      <th>6</th>\n",
       "      <td>Malivoire Wine Co Ltd</td>\n",
       "      <td>{'address': '4260 King St E', 'country': 'CA',...</td>\n",
       "      <td>[Winery]</td>\n",
       "    </tr>\n",
       "    <tr>\n",
       "      <th>7</th>\n",
       "      <td>Redstone Winery</td>\n",
       "      <td>{'address': '4245 King St', 'country': 'CA', '...</td>\n",
       "      <td>[Restaurant, Winery]</td>\n",
       "    </tr>\n",
       "    <tr>\n",
       "      <th>8</th>\n",
       "      <td>Bench Brewing Co</td>\n",
       "      <td>{'address': '3991 King St', 'country': 'CA', '...</td>\n",
       "      <td>[Brewery]</td>\n",
       "    </tr>\n",
       "    <tr>\n",
       "      <th>9</th>\n",
       "      <td>Megalomaniac Food+Drink</td>\n",
       "      <td>{'address': '3930 Cherry Ave', 'country': 'CA'...</td>\n",
       "      <td>[Restaurant, Winery]</td>\n",
       "    </tr>\n",
       "  </tbody>\n",
       "</table>\n",
       "</div>"
      ],
      "text/plain": [
       "                                  name  \\\n",
       "0             Real Canadian Superstore   \n",
       "1                            Starbucks   \n",
       "2              Rosewood Estates Winery   \n",
       "3     Good Earth Vineyard & Winery Inc   \n",
       "4  Hidden Bench Vineyards & Winery Inc   \n",
       "5                              Dillons   \n",
       "6                Malivoire Wine Co Ltd   \n",
       "7                      Redstone Winery   \n",
       "8                     Bench Brewing Co   \n",
       "9              Megalomaniac Food+Drink   \n",
       "\n",
       "                                            location  \\\n",
       "0  {'address': '361 S Service Rd', 'country': 'CA...   \n",
       "1  {'address': '415 S Service Rd', 'country': 'CA...   \n",
       "2  {'address': '4352 Mountainview Rd', 'country':...   \n",
       "3  {'address': '4556 Lincoln Ave', 'country': 'CA...   \n",
       "4  {'address': '4152 Locust Lane', 'country': 'CA...   \n",
       "5  {'address': '4833 Tufford Rd', 'country': 'CA'...   \n",
       "6  {'address': '4260 King St E', 'country': 'CA',...   \n",
       "7  {'address': '4245 King St', 'country': 'CA', '...   \n",
       "8  {'address': '3991 King St', 'country': 'CA', '...   \n",
       "9  {'address': '3930 Cherry Ave', 'country': 'CA'...   \n",
       "\n",
       "                    categories  \n",
       "0              [Grocery Store]  \n",
       "1                [Coffee Shop]  \n",
       "2  [Bar, Dessert Shop, Winery]  \n",
       "3             [Bistro, Winery]  \n",
       "4                     [Winery]  \n",
       "5                 [Distillery]  \n",
       "6                     [Winery]  \n",
       "7         [Restaurant, Winery]  \n",
       "8                    [Brewery]  \n",
       "9         [Restaurant, Winery]  "
      ]
     },
     "execution_count": 144,
     "metadata": {},
     "output_type": "execute_result"
    }
   ],
   "source": [
    "df = pd.DataFrame(results)\n",
    "df"
   ]
  },
  {
   "cell_type": "markdown",
   "metadata": {},
   "source": [
    "# Yelp"
   ]
  },
  {
   "cell_type": "markdown",
   "metadata": {},
   "source": [
    "Send a request to Yelp with a small radius (1000m) for all the bike stations in your city of choice. "
   ]
  },
  {
   "cell_type": "code",
   "execution_count": null,
   "metadata": {},
   "outputs": [],
   "source": []
  },
  {
   "cell_type": "markdown",
   "metadata": {},
   "source": [
    "Parse through the response to get the POI (such as restaurants, bars, etc) details you want (ratings, name, location, etc)"
   ]
  },
  {
   "cell_type": "code",
   "execution_count": null,
   "metadata": {},
   "outputs": [],
   "source": []
  },
  {
   "cell_type": "markdown",
   "metadata": {},
   "source": [
    "Put your parsed results into a DataFrame"
   ]
  },
  {
   "cell_type": "markdown",
   "metadata": {},
   "source": []
  },
  {
   "cell_type": "markdown",
   "metadata": {},
   "source": [
    "# Comparing Results"
   ]
  },
  {
   "cell_type": "markdown",
   "metadata": {},
   "source": [
    "Which API provided you with more complete data? Provide an explanation. "
   ]
  },
  {
   "cell_type": "markdown",
   "metadata": {},
   "source": []
  },
  {
   "cell_type": "markdown",
   "metadata": {},
   "source": [
    "Get the top 10 restaurants according to their rating"
   ]
  },
  {
   "cell_type": "code",
   "execution_count": null,
   "metadata": {},
   "outputs": [],
   "source": []
  }
 ],
 "metadata": {
  "kernelspec": {
   "display_name": "Python 3 (ipykernel)",
   "language": "python",
   "name": "python3"
  },
  "language_info": {
   "codemirror_mode": {
    "name": "ipython",
    "version": 3
   },
   "file_extension": ".py",
   "mimetype": "text/x-python",
   "name": "python",
   "nbconvert_exporter": "python",
   "pygments_lexer": "ipython3",
   "version": "3.10.13"
  }
 },
 "nbformat": 4,
 "nbformat_minor": 4
}
