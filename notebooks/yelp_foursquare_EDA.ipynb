{
 "cells": [
  {
   "cell_type": "code",
   "execution_count": 9,
   "metadata": {},
   "outputs": [],
   "source": [
    "# imports\n",
    "import numpy as np\n",
    "import pandas as pd\n",
    "import os\n",
    "import requests\n",
    "import foursquare\n",
    "import json"
   ]
  },
  {
   "cell_type": "markdown",
   "metadata": {},
   "source": [
    "# Foursquare"
   ]
  },
  {
   "cell_type": "markdown",
   "metadata": {},
   "source": [
    "Send a request to Foursquare with a small radius (1000m) for all the bike stations in your city of choice. "
   ]
  },
  {
   "cell_type": "code",
   "execution_count": 151,
   "metadata": {},
   "outputs": [],
   "source": [
    "# API URL and API token stored as an environment variable\n",
    "url = \"https://api.foursquare.com/v3/places/search?query=restaurant\"\n",
    "client_access_token = os.environ['FOURSQUARE_AUTH_TOKEN']\n",
    "\n",
    "# get response in json while passing API token in the header\n",
    "headers = {\n",
    "    \"Accept\": \"application/json\",\n",
    "    \"Authorization\": client_access_token\n",
    "}\n",
    "\n",
    "# API call parameters\n",
    "params = {\n",
    "  \t\"radius\": \"1000\",\n",
    "    \"near\": \"Toronto,ON\",\n",
    "    \"open_now\": \"true\",\n",
    "    \"sort\": \"RATING\",\n",
    "}\n",
    "# API reponse\n",
    "response = requests.get(url, headers=headers)\n",
    "\n",
    "# get text from response in json object\n",
    "data = json.loads(response.text)"
   ]
  },
  {
   "cell_type": "markdown",
   "metadata": {},
   "source": [
    "Parse through the response to get the POI (such as restaurants, bars, etc) details you want (ratings, name, location, etc)"
   ]
  },
  {
   "cell_type": "code",
   "execution_count": 152,
   "metadata": {},
   "outputs": [],
   "source": [
    "# create a new dataframe we will append to\n",
    "results =[]\n",
    "\n",
    "#iterate through results \"data['results]\" will give iterate through json data from one level down\n",
    "for result in data['results']:\n",
    "    name = result['name']\n",
    "    location = result['location']\n",
    "\n",
    "    categories = []\n",
    "    for category in result['categories']:\n",
    "        categories.append(category['name'])\n",
    "\n",
    "    result_dict = {\n",
    "        'name': name,\n",
    "        'location': location,\n",
    "        'categories': categories\n",
    "    }\n",
    "    # add respective POI in list object\n",
    "    results.append(result_dict)"
   ]
  },
  {
   "cell_type": "markdown",
   "metadata": {},
   "source": [
    "Put your parsed results into a DataFrame"
   ]
  },
  {
   "cell_type": "code",
   "execution_count": 153,
   "metadata": {},
   "outputs": [
    {
     "data": {
      "text/html": [
       "<div>\n",
       "<style scoped>\n",
       "    .dataframe tbody tr th:only-of-type {\n",
       "        vertical-align: middle;\n",
       "    }\n",
       "\n",
       "    .dataframe tbody tr th {\n",
       "        vertical-align: top;\n",
       "    }\n",
       "\n",
       "    .dataframe thead th {\n",
       "        text-align: right;\n",
       "    }\n",
       "</style>\n",
       "<table border=\"1\" class=\"dataframe\">\n",
       "  <thead>\n",
       "    <tr style=\"text-align: right;\">\n",
       "      <th></th>\n",
       "      <th>name</th>\n",
       "      <th>location</th>\n",
       "      <th>categories</th>\n",
       "    </tr>\n",
       "  </thead>\n",
       "  <tbody>\n",
       "    <tr>\n",
       "      <th>0</th>\n",
       "      <td>August Restaurant</td>\n",
       "      <td>{'address': '5204 King St', 'address_extended'...</td>\n",
       "      <td>[Restaurant, Winery]</td>\n",
       "    </tr>\n",
       "    <tr>\n",
       "      <th>1</th>\n",
       "      <td>Memphis Fire Barbeque Co</td>\n",
       "      <td>{'address': '1091 Hwy 8', 'address_extended': ...</td>\n",
       "      <td>[BBQ Joint, Fast Food Restaurant]</td>\n",
       "    </tr>\n",
       "    <tr>\n",
       "      <th>2</th>\n",
       "      <td>The Innsville</td>\n",
       "      <td>{'address': '1143 Hwy No 8', 'country': 'CA', ...</td>\n",
       "      <td>[Restaurant]</td>\n",
       "    </tr>\n",
       "    <tr>\n",
       "      <th>3</th>\n",
       "      <td>Your Neighbourhood Pizza Co</td>\n",
       "      <td>{'address': '5008 King St', 'country': 'CA', '...</td>\n",
       "      <td>[Pizzeria]</td>\n",
       "    </tr>\n",
       "    <tr>\n",
       "      <th>4</th>\n",
       "      <td>Conversations Cafe</td>\n",
       "      <td>{'address': '4985A4 King St', 'country': 'CA',...</td>\n",
       "      <td>[Café, Coffee Shop, Restaurant]</td>\n",
       "    </tr>\n",
       "    <tr>\n",
       "      <th>5</th>\n",
       "      <td>Edgewater Manor</td>\n",
       "      <td>{'address': '518 Fruitland Rd', 'country': 'CA...</td>\n",
       "      <td>[Diner, American Restaurant, Italian Restaurant]</td>\n",
       "    </tr>\n",
       "    <tr>\n",
       "      <th>6</th>\n",
       "      <td>Pita Pit</td>\n",
       "      <td>{'address': '301 Fruitland Rd', 'address_exten...</td>\n",
       "      <td>[Sandwich Spot, Restaurant]</td>\n",
       "    </tr>\n",
       "    <tr>\n",
       "      <th>7</th>\n",
       "      <td>Chuggy's Tap &amp; Grill</td>\n",
       "      <td>{'address': '390 Barton St', 'address_extended...</td>\n",
       "      <td>[Burger Joint, American Restaurant, Fast Food ...</td>\n",
       "    </tr>\n",
       "    <tr>\n",
       "      <th>8</th>\n",
       "      <td>Rony's</td>\n",
       "      <td>{'address': '312 Grays Rd', 'country': 'CA', '...</td>\n",
       "      <td>[Restaurant]</td>\n",
       "    </tr>\n",
       "    <tr>\n",
       "      <th>9</th>\n",
       "      <td>Lake House Restaurant</td>\n",
       "      <td>{'address': '3100 N Service Rd', 'country': 'C...</td>\n",
       "      <td>[Restaurant]</td>\n",
       "    </tr>\n",
       "  </tbody>\n",
       "</table>\n",
       "</div>"
      ],
      "text/plain": [
       "                          name  \\\n",
       "0            August Restaurant   \n",
       "1     Memphis Fire Barbeque Co   \n",
       "2                The Innsville   \n",
       "3  Your Neighbourhood Pizza Co   \n",
       "4           Conversations Cafe   \n",
       "5              Edgewater Manor   \n",
       "6                     Pita Pit   \n",
       "7         Chuggy's Tap & Grill   \n",
       "8                       Rony's   \n",
       "9        Lake House Restaurant   \n",
       "\n",
       "                                            location  \\\n",
       "0  {'address': '5204 King St', 'address_extended'...   \n",
       "1  {'address': '1091 Hwy 8', 'address_extended': ...   \n",
       "2  {'address': '1143 Hwy No 8', 'country': 'CA', ...   \n",
       "3  {'address': '5008 King St', 'country': 'CA', '...   \n",
       "4  {'address': '4985A4 King St', 'country': 'CA',...   \n",
       "5  {'address': '518 Fruitland Rd', 'country': 'CA...   \n",
       "6  {'address': '301 Fruitland Rd', 'address_exten...   \n",
       "7  {'address': '390 Barton St', 'address_extended...   \n",
       "8  {'address': '312 Grays Rd', 'country': 'CA', '...   \n",
       "9  {'address': '3100 N Service Rd', 'country': 'C...   \n",
       "\n",
       "                                          categories  \n",
       "0                               [Restaurant, Winery]  \n",
       "1                  [BBQ Joint, Fast Food Restaurant]  \n",
       "2                                       [Restaurant]  \n",
       "3                                         [Pizzeria]  \n",
       "4                    [Café, Coffee Shop, Restaurant]  \n",
       "5   [Diner, American Restaurant, Italian Restaurant]  \n",
       "6                        [Sandwich Spot, Restaurant]  \n",
       "7  [Burger Joint, American Restaurant, Fast Food ...  \n",
       "8                                       [Restaurant]  \n",
       "9                                       [Restaurant]  "
      ]
     },
     "execution_count": 153,
     "metadata": {},
     "output_type": "execute_result"
    }
   ],
   "source": [
    "# store results in dataframe\n",
    "df = pd.DataFrame(results)\n",
    "df"
   ]
  },
  {
   "cell_type": "markdown",
   "metadata": {},
   "source": [
    "# Yelp"
   ]
  },
  {
   "cell_type": "markdown",
   "metadata": {},
   "source": [
    "Send a request to Yelp with a small radius (1000m) for all the bike stations in your city of choice. "
   ]
  },
  {
   "cell_type": "code",
   "execution_count": null,
   "metadata": {},
   "outputs": [],
   "source": []
  },
  {
   "cell_type": "markdown",
   "metadata": {},
   "source": [
    "Parse through the response to get the POI (such as restaurants, bars, etc) details you want (ratings, name, location, etc)"
   ]
  },
  {
   "cell_type": "code",
   "execution_count": null,
   "metadata": {},
   "outputs": [],
   "source": []
  },
  {
   "cell_type": "markdown",
   "metadata": {},
   "source": [
    "Put your parsed results into a DataFrame"
   ]
  },
  {
   "cell_type": "markdown",
   "metadata": {},
   "source": []
  },
  {
   "cell_type": "markdown",
   "metadata": {},
   "source": [
    "# Comparing Results"
   ]
  },
  {
   "cell_type": "markdown",
   "metadata": {},
   "source": [
    "Which API provided you with more complete data? Provide an explanation. "
   ]
  },
  {
   "cell_type": "markdown",
   "metadata": {},
   "source": []
  },
  {
   "cell_type": "markdown",
   "metadata": {},
   "source": [
    "Get the top 10 restaurants according to their rating"
   ]
  },
  {
   "cell_type": "code",
   "execution_count": null,
   "metadata": {},
   "outputs": [],
   "source": []
  }
 ],
 "metadata": {
  "kernelspec": {
   "display_name": "Python 3 (ipykernel)",
   "language": "python",
   "name": "python3"
  },
  "language_info": {
   "codemirror_mode": {
    "name": "ipython",
    "version": 3
   },
   "file_extension": ".py",
   "mimetype": "text/x-python",
   "name": "python",
   "nbconvert_exporter": "python",
   "pygments_lexer": "ipython3",
   "version": "3.10.13"
  }
 },
 "nbformat": 4,
 "nbformat_minor": 4
}
