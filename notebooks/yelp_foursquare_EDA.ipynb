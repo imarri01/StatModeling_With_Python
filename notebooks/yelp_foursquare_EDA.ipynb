{
 "cells": [
  {
   "cell_type": "code",
   "execution_count": 233,
   "metadata": {},
   "outputs": [],
   "source": [
    "# imports\n",
    "import numpy as np\n",
    "import pandas as pd\n",
    "import os\n",
    "import requests\n",
    "import foursquare\n",
    "import json"
   ]
  },
  {
   "cell_type": "markdown",
   "metadata": {},
   "source": [
    "# Foursquare"
   ]
  },
  {
   "cell_type": "markdown",
   "metadata": {},
   "source": [
    "Send a request to Foursquare with a small radius (1000m) for all the bike stations in your city of choice. "
   ]
  },
  {
   "cell_type": "code",
   "execution_count": null,
   "metadata": {},
   "outputs": [],
   "source": [
    "# import langitude and latitude coordinates from Part 1 City bike acitivity and store in a Dataframe\n",
    "city_bike_coord = pd.read_csv('../data/CityBike_longlat.csv')\n",
    "city_bike_coord = city_bike_coord.round(2)\n",
    "city_bike_coord"
   ]
  },
  {
   "cell_type": "code",
   "execution_count": null,
   "metadata": {},
   "outputs": [],
   "source": [
    "# get each pair of long lat coordinates\n",
    "long_lat_strings = []\n",
    "\n",
    "for index, row in city_bike_coord.iterrows():\n",
    "  # Extract the longitude and latitude values\n",
    "  longitude = row['longitude']\n",
    "  latitude = row['latitude']\n",
    "\n",
    "  # Combine them into a tuple\n",
    "  long_lat_pair = f\"{longitude},{latitude}\"\n",
    "\n",
    "  long_lat_strings.append(long_lat_pair)\n",
    "\n",
    "long_lat_strings"
   ]
  },
  {
   "cell_type": "code",
   "execution_count": null,
   "metadata": {},
   "outputs": [],
   "source": [
    "# API URL and API token stored as an environment variable\n",
    "client_access_token = os.environ['FOURSQUARE_AUTH_TOKEN']\n",
    "\n",
    "# get response in json while passing API token in the header\n",
    "headers = {\n",
    "    \"Accept\": \"application/json\",\n",
    "    \"Authorization\": client_access_token\n",
    "}\n",
    "\n",
    "responses = []\n",
    "\n",
    "for long_lat_string in long_lat_strings:\n",
    "    #URL\n",
    "    \n",
    "    longitude, latitude = long_lat_string.split(\",\")\n",
    "    url = f\"https://api.foursquare.com/v3/places/search?ll={latitude},{longitude}&radius=1000&query=restaurant\"\n",
    "    response = requests.get(url, headers=headers)\n",
    "    data = response.json()\n",
    "    responses.append(data)\n",
    "\n",
    "print(responses)\n"
   ]
  },
  {
   "cell_type": "code",
   "execution_count": null,
   "metadata": {},
   "outputs": [],
   "source": [
    "# Flatten responses by two levels to get results\n",
    "flat_responses=[]\n",
    "for level_one in responses:\n",
    "    for level_two in level_one['results']:\n",
    "        flat_responses.append(level_two)\n",
    "flat_responses\n",
    "\n"
   ]
  },
  {
   "cell_type": "markdown",
   "metadata": {},
   "source": [
    "Parse through the response to get the POI (such as restaurants, bars, etc) details you want (ratings, name, location, etc)"
   ]
  },
  {
   "cell_type": "code",
   "execution_count": 311,
   "metadata": {},
   "outputs": [],
   "source": [
    "# create a new dataframe we will append to\n",
    "results =[]\n",
    "\n",
    "\n",
    "#iterate through results \"data['results]\" will give iterate through json data from one level down\n",
    "for result in flat_responses:\n",
    "    name = result['name']\n",
    "    location = result['location']\n",
    "\n",
    "    categories = []\n",
    "    for category in result['categories']:\n",
    "        categories.append(category['name'])\n",
    "\n",
    "    result_dict = {\n",
    "        'name': name,\n",
    "        'location': location,\n",
    "        'categories': categories\n",
    "    }\n",
    "    # add respective POI in list object\n",
    "    results.append(result_dict)"
   ]
  },
  {
   "cell_type": "code",
   "execution_count": 312,
   "metadata": {},
   "outputs": [
    {
     "data": {
      "text/plain": [
       "1334"
      ]
     },
     "execution_count": 312,
     "metadata": {},
     "output_type": "execute_result"
    }
   ],
   "source": [
    "len(results)"
   ]
  },
  {
   "cell_type": "markdown",
   "metadata": {},
   "source": [
    "Put your parsed results into a DataFrame"
   ]
  },
  {
   "cell_type": "code",
   "execution_count": 327,
   "metadata": {},
   "outputs": [
    {
     "data": {
      "text/html": [
       "<div>\n",
       "<style scoped>\n",
       "    .dataframe tbody tr th:only-of-type {\n",
       "        vertical-align: middle;\n",
       "    }\n",
       "\n",
       "    .dataframe tbody tr th {\n",
       "        vertical-align: top;\n",
       "    }\n",
       "\n",
       "    .dataframe thead th {\n",
       "        text-align: right;\n",
       "    }\n",
       "</style>\n",
       "<table border=\"1\" class=\"dataframe\">\n",
       "  <thead>\n",
       "    <tr style=\"text-align: right;\">\n",
       "      <th></th>\n",
       "      <th>name</th>\n",
       "      <th>address</th>\n",
       "      <th>country</th>\n",
       "      <th>cross_street</th>\n",
       "      <th>formatted_address</th>\n",
       "      <th>locality</th>\n",
       "      <th>postcode</th>\n",
       "      <th>region</th>\n",
       "      <th>address_extended</th>\n",
       "      <th>categories</th>\n",
       "    </tr>\n",
       "  </thead>\n",
       "  <tbody>\n",
       "    <tr>\n",
       "      <th>0</th>\n",
       "      <td>La Luna Restaurant Downtown</td>\n",
       "      <td>306 King St W</td>\n",
       "      <td>CA</td>\n",
       "      <td>at Queen St</td>\n",
       "      <td>306 King St W (at Queen St), Hamilton ON L8P 1B1</td>\n",
       "      <td>Hamilton</td>\n",
       "      <td>L8P 1B1</td>\n",
       "      <td>ON</td>\n",
       "      <td>NaN</td>\n",
       "      <td>[Lebanese Restaurant, Mediterranean Restaurant...</td>\n",
       "    </tr>\n",
       "    <tr>\n",
       "      <th>1</th>\n",
       "      <td>Coop Hamilton</td>\n",
       "      <td>274 King St W</td>\n",
       "      <td>CA</td>\n",
       "      <td></td>\n",
       "      <td>274 King St W, Hamilton ON L8P 1J6</td>\n",
       "      <td>Hamilton</td>\n",
       "      <td>L8P 1J6</td>\n",
       "      <td>ON</td>\n",
       "      <td># 272</td>\n",
       "      <td>[Fried Chicken Joint]</td>\n",
       "    </tr>\n",
       "    <tr>\n",
       "      <th>2</th>\n",
       "      <td>Smoke's Poutinerie</td>\n",
       "      <td>112 George St</td>\n",
       "      <td>CA</td>\n",
       "      <td>at Queen St. S.</td>\n",
       "      <td>112 George St (at Queen St. S.), Hamilton ON L...</td>\n",
       "      <td>Hamilton</td>\n",
       "      <td>L8P 1E2</td>\n",
       "      <td>ON</td>\n",
       "      <td>NaN</td>\n",
       "      <td>[Fast Food Restaurant, Poutine Restaurant, Ste...</td>\n",
       "    </tr>\n",
       "    <tr>\n",
       "      <th>3</th>\n",
       "      <td>Coop Wicked Chicken Hamilton</td>\n",
       "      <td>274 King St W</td>\n",
       "      <td>CA</td>\n",
       "      <td>Hess St</td>\n",
       "      <td>274 King St W (Hess St), Hamilton ON L8P 1J6</td>\n",
       "      <td>Hamilton</td>\n",
       "      <td>L8P 1J6</td>\n",
       "      <td>ON</td>\n",
       "      <td># 272</td>\n",
       "      <td>[Fried Chicken Joint]</td>\n",
       "    </tr>\n",
       "    <tr>\n",
       "      <th>4</th>\n",
       "      <td>Vida la Pita</td>\n",
       "      <td>217 King St W</td>\n",
       "      <td>CA</td>\n",
       "      <td>Caroline</td>\n",
       "      <td>217 King St W (Caroline), Hamilton ON L8P 1A7</td>\n",
       "      <td>Hamilton</td>\n",
       "      <td>L8P 1A7</td>\n",
       "      <td>ON</td>\n",
       "      <td>NaN</td>\n",
       "      <td>[Fast Food Restaurant, Middle Eastern Restaurant]</td>\n",
       "    </tr>\n",
       "    <tr>\n",
       "      <th>...</th>\n",
       "      <td>...</td>\n",
       "      <td>...</td>\n",
       "      <td>...</td>\n",
       "      <td>...</td>\n",
       "      <td>...</td>\n",
       "      <td>...</td>\n",
       "      <td>...</td>\n",
       "      <td>...</td>\n",
       "      <td>...</td>\n",
       "      <td>...</td>\n",
       "    </tr>\n",
       "    <tr>\n",
       "      <th>1329</th>\n",
       "      <td>Hambrgr</td>\n",
       "      <td>207 Ottawa St N</td>\n",
       "      <td>CA</td>\n",
       "      <td></td>\n",
       "      <td>207 Ottawa St N, Hamilton ON L8H 3Z4</td>\n",
       "      <td>Hamilton</td>\n",
       "      <td>L8H 3Z4</td>\n",
       "      <td>ON</td>\n",
       "      <td>NaN</td>\n",
       "      <td>[Bar, Burger Joint]</td>\n",
       "    </tr>\n",
       "    <tr>\n",
       "      <th>1330</th>\n",
       "      <td>Cannon Coffee Co</td>\n",
       "      <td>179 Ottawa St N</td>\n",
       "      <td>CA</td>\n",
       "      <td>Cannon Street</td>\n",
       "      <td>179 Ottawa St N (Cannon Street), Hamilton ON L...</td>\n",
       "      <td>Hamilton</td>\n",
       "      <td>L8H 3Z4</td>\n",
       "      <td>ON</td>\n",
       "      <td>NaN</td>\n",
       "      <td>[Café, Coffee Shop, Restaurant]</td>\n",
       "    </tr>\n",
       "    <tr>\n",
       "      <th>1331</th>\n",
       "      <td>Boston Pizza</td>\n",
       "      <td>1219 Barton St E</td>\n",
       "      <td>CA</td>\n",
       "      <td>Kenilworth Ave. N.</td>\n",
       "      <td>1219 Barton St E (Kenilworth Ave. N.), Hamilto...</td>\n",
       "      <td>Hamilton</td>\n",
       "      <td>L8H 2V4</td>\n",
       "      <td>ON</td>\n",
       "      <td>NaN</td>\n",
       "      <td>[Pizzeria]</td>\n",
       "    </tr>\n",
       "    <tr>\n",
       "      <th>1332</th>\n",
       "      <td>Hi-Line Centre Pizza &amp; Wings</td>\n",
       "      <td>1150 King St E</td>\n",
       "      <td>CA</td>\n",
       "      <td>Gage</td>\n",
       "      <td>1150 King St E (Gage), Hamilton ON L8M 1E8</td>\n",
       "      <td>Hamilton</td>\n",
       "      <td>L8M 1E8</td>\n",
       "      <td>ON</td>\n",
       "      <td># 2</td>\n",
       "      <td>[Pizzeria]</td>\n",
       "    </tr>\n",
       "    <tr>\n",
       "      <th>1333</th>\n",
       "      <td>Harvey's</td>\n",
       "      <td>1200 Barton St E</td>\n",
       "      <td>CA</td>\n",
       "      <td></td>\n",
       "      <td>1200 Barton St E, Hamilton ON L8H 2V7</td>\n",
       "      <td>Hamilton</td>\n",
       "      <td>L8H 2V7</td>\n",
       "      <td>ON</td>\n",
       "      <td>NaN</td>\n",
       "      <td>[Restaurant]</td>\n",
       "    </tr>\n",
       "  </tbody>\n",
       "</table>\n",
       "<p>1334 rows × 10 columns</p>\n",
       "</div>"
      ],
      "text/plain": [
       "                              name           address country  \\\n",
       "0      La Luna Restaurant Downtown     306 King St W      CA   \n",
       "1                    Coop Hamilton     274 King St W      CA   \n",
       "2               Smoke's Poutinerie     112 George St      CA   \n",
       "3     Coop Wicked Chicken Hamilton     274 King St W      CA   \n",
       "4                     Vida la Pita     217 King St W      CA   \n",
       "...                            ...               ...     ...   \n",
       "1329                       Hambrgr   207 Ottawa St N      CA   \n",
       "1330              Cannon Coffee Co   179 Ottawa St N      CA   \n",
       "1331                  Boston Pizza  1219 Barton St E      CA   \n",
       "1332  Hi-Line Centre Pizza & Wings    1150 King St E      CA   \n",
       "1333                      Harvey's  1200 Barton St E      CA   \n",
       "\n",
       "            cross_street                                  formatted_address  \\\n",
       "0            at Queen St   306 King St W (at Queen St), Hamilton ON L8P 1B1   \n",
       "1                                        274 King St W, Hamilton ON L8P 1J6   \n",
       "2        at Queen St. S.  112 George St (at Queen St. S.), Hamilton ON L...   \n",
       "3                Hess St       274 King St W (Hess St), Hamilton ON L8P 1J6   \n",
       "4               Caroline      217 King St W (Caroline), Hamilton ON L8P 1A7   \n",
       "...                  ...                                                ...   \n",
       "1329                                   207 Ottawa St N, Hamilton ON L8H 3Z4   \n",
       "1330       Cannon Street  179 Ottawa St N (Cannon Street), Hamilton ON L...   \n",
       "1331  Kenilworth Ave. N.  1219 Barton St E (Kenilworth Ave. N.), Hamilto...   \n",
       "1332                Gage         1150 King St E (Gage), Hamilton ON L8M 1E8   \n",
       "1333                                  1200 Barton St E, Hamilton ON L8H 2V7   \n",
       "\n",
       "      locality postcode region address_extended  \\\n",
       "0     Hamilton  L8P 1B1     ON              NaN   \n",
       "1     Hamilton  L8P 1J6     ON            # 272   \n",
       "2     Hamilton  L8P 1E2     ON              NaN   \n",
       "3     Hamilton  L8P 1J6     ON            # 272   \n",
       "4     Hamilton  L8P 1A7     ON              NaN   \n",
       "...        ...      ...    ...              ...   \n",
       "1329  Hamilton  L8H 3Z4     ON              NaN   \n",
       "1330  Hamilton  L8H 3Z4     ON              NaN   \n",
       "1331  Hamilton  L8H 2V4     ON              NaN   \n",
       "1332  Hamilton  L8M 1E8     ON              # 2   \n",
       "1333  Hamilton  L8H 2V7     ON              NaN   \n",
       "\n",
       "                                             categories  \n",
       "0     [Lebanese Restaurant, Mediterranean Restaurant...  \n",
       "1                                 [Fried Chicken Joint]  \n",
       "2     [Fast Food Restaurant, Poutine Restaurant, Ste...  \n",
       "3                                 [Fried Chicken Joint]  \n",
       "4     [Fast Food Restaurant, Middle Eastern Restaurant]  \n",
       "...                                                 ...  \n",
       "1329                                [Bar, Burger Joint]  \n",
       "1330                    [Café, Coffee Shop, Restaurant]  \n",
       "1331                                         [Pizzeria]  \n",
       "1332                                         [Pizzeria]  \n",
       "1333                                       [Restaurant]  \n",
       "\n",
       "[1334 rows x 10 columns]"
      ]
     },
     "execution_count": 327,
     "metadata": {},
     "output_type": "execute_result"
    }
   ],
   "source": [
    "# store results in dataframe\n",
    "df = pd.DataFrame(results)\n",
    "df_name = df['name']\n",
    "df_location = pd.json_normalize(df['location'])\n",
    "df_categories = df['categories']\n",
    "\n",
    "merged_df = pd.merge(df_name, df_location,left_index=True, right_index=True,how='inner')\n",
    "final_merge_df = pd.merge(merged_df, df_categories,left_index=True, right_index=True, how='inner')\n",
    "final_merge_df"
   ]
  },
  {
   "cell_type": "markdown",
   "metadata": {},
   "source": [
    "# Yelp"
   ]
  },
  {
   "cell_type": "markdown",
   "metadata": {},
   "source": [
    "Send a request to Yelp with a small radius (1000m) for all the bike stations in your city of choice. "
   ]
  },
  {
   "cell_type": "code",
   "execution_count": null,
   "metadata": {},
   "outputs": [],
   "source": []
  },
  {
   "cell_type": "markdown",
   "metadata": {},
   "source": [
    "Parse through the response to get the POI (such as restaurants, bars, etc) details you want (ratings, name, location, etc)"
   ]
  },
  {
   "cell_type": "code",
   "execution_count": null,
   "metadata": {},
   "outputs": [],
   "source": []
  },
  {
   "cell_type": "markdown",
   "metadata": {},
   "source": [
    "Put your parsed results into a DataFrame"
   ]
  },
  {
   "cell_type": "markdown",
   "metadata": {},
   "source": []
  },
  {
   "cell_type": "markdown",
   "metadata": {},
   "source": [
    "# Comparing Results"
   ]
  },
  {
   "cell_type": "markdown",
   "metadata": {},
   "source": [
    "Which API provided you with more complete data? Provide an explanation. "
   ]
  },
  {
   "cell_type": "markdown",
   "metadata": {},
   "source": []
  },
  {
   "cell_type": "markdown",
   "metadata": {},
   "source": [
    "Get the top 10 restaurants according to their rating"
   ]
  },
  {
   "cell_type": "code",
   "execution_count": null,
   "metadata": {},
   "outputs": [],
   "source": []
  }
 ],
 "metadata": {
  "kernelspec": {
   "display_name": "Python 3 (ipykernel)",
   "language": "python",
   "name": "python3"
  },
  "language_info": {
   "codemirror_mode": {
    "name": "ipython",
    "version": 3
   },
   "file_extension": ".py",
   "mimetype": "text/x-python",
   "name": "python",
   "nbconvert_exporter": "python",
   "pygments_lexer": "ipython3",
   "version": "3.10.13"
  }
 },
 "nbformat": 4,
 "nbformat_minor": 4
}
